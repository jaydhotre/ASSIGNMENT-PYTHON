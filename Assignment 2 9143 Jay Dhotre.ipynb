{
  "nbformat": 4,
  "nbformat_minor": 0,
  "metadata": {
    "colab": {
      "name": "Untitled6.ipynb",
      "provenance": [],
      "collapsed_sections": []
    },
    "kernelspec": {
      "name": "python3",
      "display_name": "Python 3"
    },
    "language_info": {
      "name": "python"
    }
  },
  "cells": [
    {
      "cell_type": "markdown",
      "source": [
        "Name- Jay Dhotre\n",
        "\n",
        "Roll no- 9143"
      ],
      "metadata": {
        "id": "eU33iJFkc8j7"
      }
    },
    {
      "cell_type": "markdown",
      "source": [
        "Q1.Write a Python User Define Function to reverse a string\n",
        "\n",
        "Q1. Hint :If I Pass the Parameter >> \"python\" My output will be >> \"nohtyp\""
      ],
      "metadata": {
        "id": "h7zaOIxXdCzo"
      }
    },
    {
      "cell_type": "code",
      "source": [
        "##Solution Q1. \n",
        "def rev(Inp):\n",
        " ReverseInp=Inp[::-1] # Slicing\n",
        " print (\"The Reversed String is\",ReverseInp) # Print the reversed string\n",
        "\n",
        "Stri=input(\"Enter the String to be Reversed \") # Input From the User\n",
        "rev(Stri) #Called the function with user input as parameter"
      ],
      "metadata": {
        "colab": {
          "base_uri": "https://localhost:8080/"
        },
        "id": "IoWf00iSdB6I",
        "outputId": "8fd201c3-d691-4d24-d7bf-5d26328b4251"
      },
      "execution_count": 1,
      "outputs": [
        {
          "output_type": "stream",
          "name": "stdout",
          "text": [
            "Enter the String to be Reversed Jay\n",
            "The Reversed String is yaJ\n"
          ]
        }
      ]
    },
    {
      "cell_type": "markdown",
      "source": [
        "Q2. Write a Python min_max function which will return Min, Max of 4 inputs from the user.\n"
      ],
      "metadata": {
        "id": "3WwDkaq-dRH-"
      }
    },
    {
      "cell_type": "code",
      "source": [
        "##Solution Q2. \n",
        "def min_max(A,B,C,D):\n",
        "  print(\"The Maxmimum value from the input values is: \", max(A,B,C,D))\n",
        "  print(\"The Minimum value from the input values is: \", min(A,B,C,D))\n",
        "  \n",
        "p, q, r, s = input(\"Enter four values to find minimum and maximum value separated by space: \").split()\n",
        "# Alternative  \n",
        "# p = input(\"Enter the first value: \")\n",
        "# q = input(\"Enter the second value: \")\n",
        "# r = input(\"Enter the third value: \")\n",
        "# s = input(\"Enter the fourth value: \")\n",
        "\n",
        "min_max(p,q,r,s)"
      ],
      "metadata": {
        "colab": {
          "base_uri": "https://localhost:8080/"
        },
        "id": "FPG-Z3y5dZlq",
        "outputId": "6b70f477-f92a-4917-a569-5ea4a217449d"
      },
      "execution_count": 3,
      "outputs": [
        {
          "output_type": "stream",
          "name": "stdout",
          "text": [
            "Enter four values to find minimum and maximum value separated by space: 1 2 3 4\n",
            "The Maxmimum value from the input values is:  4\n",
            "The Minimum value from the input values is:  1\n"
          ]
        }
      ]
    },
    {
      "cell_type": "markdown",
      "source": [
        "Q3. Write a Python function to sum 4 inputs from the user."
      ],
      "metadata": {
        "id": "rwZm2AdHeWhB"
      }
    },
    {
      "cell_type": "code",
      "source": [
        "##Solution Q3. \n",
        "def Sum4(A,B,C,D):\n",
        "  sum = A+B+C+D\n",
        "  print(\"The Sum of the input vlaues is: \", sum)\n",
        "\n",
        "p, q, r, s = list(map(float, input(\"Enter four values to find sum of them separated by space: \").split()))\n",
        "# Alternative  \n",
        "# p = float(input(\"Enter the first value: \"))\n",
        "# q = float(input(\"Enter the second value: \"))\n",
        "# r = float(input(\"Enter the third value: \"))\n",
        "# s = float(input(\"Enter the fourth value: \"))\n",
        "\n",
        "Sum4 (p,q,r,s)"
      ],
      "metadata": {
        "colab": {
          "base_uri": "https://localhost:8080/"
        },
        "id": "ihrkiFjXdpS5",
        "outputId": "2530f131-9198-4e3a-d334-281eae33c372"
      },
      "execution_count": 4,
      "outputs": [
        {
          "output_type": "stream",
          "name": "stdout",
          "text": [
            "Enter four values to find sum of them separated by space: 1 2 3 4\n",
            "The Sum of the input vlaues is:  10.0\n"
          ]
        }
      ]
    },
    {
      "cell_type": "markdown",
      "source": [
        "Q4. Find out the Command which will return you number of local variables from the user define function.\n",
        "\n"
      ],
      "metadata": {
        "id": "WGKODS8eeQpK"
      }
    },
    {
      "cell_type": "code",
      "source": [
        "##Solution Q4. \n",
        "# Suppose here our user defined function is Sum4\n",
        "# Then to find the number of local variables we have to use the following syntax\n",
        "## User_Defined_Function_Name.__code__.co_nlocals\n",
        "print(\"The Number of Local Variables in the given User Defined Function is: \" ,Sum4.__code__.co_nlocals)"
      ],
      "metadata": {
        "colab": {
          "base_uri": "https://localhost:8080/"
        },
        "id": "gY7ZioMEd0T2",
        "outputId": "3132a942-dcab-42ec-9fb9-ede155733efd"
      },
      "execution_count": 5,
      "outputs": [
        {
          "output_type": "stream",
          "name": "stdout",
          "text": [
            "The Number of Local Variables in the given User Defined Function is:  5\n"
          ]
        }
      ]
    },
    {
      "cell_type": "markdown",
      "source": [
        "Q5.Write Python Function to get even number from the list. List len must be equal to 8.\n",
        "\n"
      ],
      "metadata": {
        "id": "-X3szvryeKDz"
      }
    },
    {
      "cell_type": "code",
      "source": [
        "##Solution Q5. \n",
        "list1 = list(map(float, input(\"Enter a list of 8 elements separated by space: \").split()))\n",
        "L = len(list1)\n",
        "\n",
        "if (L==8):\n",
        "    print(\"The Even Numbers are : \")\n",
        "    for num in list1:\n",
        "  \n",
        "        if (num % 2 == 0):\n",
        "            print(num, end=\" \")\n",
        "else: \n",
        "    print(\"There are less than 8 elements in the list\")\n"
      ],
      "metadata": {
        "colab": {
          "base_uri": "https://localhost:8080/"
        },
        "id": "tfWaEDMqd9NQ",
        "outputId": "53d7a320-1e13-4697-eeab-998afce57e1f"
      },
      "execution_count": 6,
      "outputs": [
        {
          "output_type": "stream",
          "name": "stdout",
          "text": [
            "Enter a list of 8 elements separated by space: 1 2 3 4 5 6 7 8\n",
            "The Even Numbers are : \n",
            "2.0 4.0 6.0 8.0 "
          ]
        }
      ]
    },
    {
      "cell_type": "code",
      "source": [
        ""
      ],
      "metadata": {
        "id": "NJ7pmR7reBLW"
      },
      "execution_count": 6,
      "outputs": []
    }
  ]
}