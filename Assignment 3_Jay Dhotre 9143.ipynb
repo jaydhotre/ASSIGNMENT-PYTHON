{
  "nbformat": 4,
  "nbformat_minor": 0,
  "metadata": {
    "colab": {
      "name": "Untitled7.ipynb",
      "provenance": []
    },
    "kernelspec": {
      "name": "python3",
      "display_name": "Python 3"
    },
    "language_info": {
      "name": "python"
    }
  },
  "cells": [
    {
      "cell_type": "markdown",
      "source": [
        "Name- Jay Dhotre \n",
        "\n",
        "Roll no- 9143"
      ],
      "metadata": {
        "id": "hW30WTYijwVn"
      }
    },
    {
      "cell_type": "code",
      "source": [
        "import numpy as np\n",
        "import matplotlib.pyplot as plt\n",
        "import math"
      ],
      "metadata": {
        "id": "qSM26yquj2Y0"
      },
      "execution_count": 1,
      "outputs": []
    },
    {
      "cell_type": "code",
      "source": [
        "#Question 33\n",
        "Years=(2015,2016,2017,2018,2019)\n",
        "Years\n",
        "AS=(12.,13.4,7.5,20.1,16.5)\n",
        "AS"
      ],
      "metadata": {
        "colab": {
          "base_uri": "https://localhost:8080/"
        },
        "id": "ZN4qaYtrj6Ea",
        "outputId": "d3e39ca8-0d43-4b6f-913a-1af6947c7941"
      },
      "execution_count": 2,
      "outputs": [
        {
          "output_type": "execute_result",
          "data": {
            "text/plain": [
              "(12.0, 13.4, 7.5, 20.1, 16.5)"
            ]
          },
          "metadata": {},
          "execution_count": 2
        }
      ]
    },
    {
      "cell_type": "code",
      "source": [
        "Bar_plot=plt.bar(Years,AS,color=\"Black\",width=0.5)\n",
        "plt.xlabel(\"Years\")\n",
        "plt.ylabel(\"Anual Sale\")\n",
        "plt.title(\"Simple Bar Plot\")"
      ],
      "metadata": {
        "colab": {
          "base_uri": "https://localhost:8080/",
          "height": 312
        },
        "id": "EHGf27IlkBVk",
        "outputId": "a78780e8-285d-4d71-9450-f9c7bccd45df"
      },
      "execution_count": 3,
      "outputs": [
        {
          "output_type": "execute_result",
          "data": {
            "text/plain": [
              "Text(0.5, 1.0, 'Simple Bar Plot')"
            ]
          },
          "metadata": {},
          "execution_count": 3
        },
        {
          "output_type": "display_data",
          "data": {
            "text/plain": [
              "<Figure size 432x288 with 1 Axes>"
            ],
            "image/png": "[encoded data removed]"
          },
          "metadata": {
            "needs_background": "light"
          }
        }
      ]
    },
    {
      "cell_type": "code",
      "source": [
        "#Question 35\n",
        "Binomial=np.random.binomial(20,0.3,100)\n",
        "Binomial\n",
        "plt.boxplot(Binomial)\n",
        "plt.title(\"Box plot of Random Numbers generated by Binomial Distribution\")"
      ],
      "metadata": {
        "colab": {
          "base_uri": "https://localhost:8080/",
          "height": 298
        },
        "id": "8vmG08ZXk1mB",
        "outputId": "b61805cb-bf17-4107-8522-3bab70adef5a"
      },
      "execution_count": 4,
      "outputs": [
        {
          "output_type": "execute_result",
          "data": {
            "text/plain": [
              "Text(0.5, 1.0, 'Box plot of Random Numbers generated by Binomial Distribution')"
            ]
          },
          "metadata": {},
          "execution_count": 4
        },
        {
          "output_type": "display_data",
          "data": {
            "text/plain": [
              "<Figure size 432x288 with 1 Axes>"
            ],
            "image/png": "[encoded data removed]"
          },
          "metadata": {
            "needs_background": "light"
          }
        }
      ]
    },
    {
      "cell_type": "code",
      "source": [
        "#Question 36\n",
        "Normal=np.random.normal(0,1,100)\n",
        "Histogram=plt.hist(Normal)\n",
        "plt.title(\"Histogram Gene\")"
      ],
      "metadata": {
        "colab": {
          "base_uri": "https://localhost:8080/",
          "height": 298
        },
        "id": "i9On0Dffk64N",
        "outputId": "36250f9d-002e-4a92-b1d9-ec655e008fb6"
      },
      "execution_count": 5,
      "outputs": [
        {
          "output_type": "execute_result",
          "data": {
            "text/plain": [
              "Text(0.5, 1.0, 'Histogram Gene')"
            ]
          },
          "metadata": {},
          "execution_count": 5
        },
        {
          "output_type": "display_data",
          "data": {
            "text/plain": [
              "<Figure size 432x288 with 1 Axes>"
            ],
            "image/png": "[encoded data removed]"
          },
          "metadata": {
            "needs_background": "light"
          }
        }
      ]
    },
    {
      "cell_type": "code",
      "source": [
        "#Question 37\n",
        "X=(float)(input(\"value of X:\"))\n",
        "n=(int)(input(\"value of n: \"))\n",
        "sum1=1\n",
        "for i in range(2,n+1):\n",
        "    sum1=sum1+X**i\n",
        "print(\"Evaluated Series is \",sum1)"
      ],
      "metadata": {
        "colab": {
          "base_uri": "https://localhost:8080/"
        },
        "id": "pzoClPbKk-51",
        "outputId": "3ea2f964-2a5e-418a-a790-ed3cffdd5f08"
      },
      "execution_count": 6,
      "outputs": [
        {
          "output_type": "stream",
          "name": "stdout",
          "text": [
            "value of X:0.2\n",
            "value of n: 100\n",
            "Evaluated Series is  1.05\n"
          ]
        }
      ]
    },
    {
      "cell_type": "code",
      "source": [
        "#Question 38\n",
        "a = float(input('Enter first side: '))\n",
        "b = float(input('Enter second side: '))\n",
        "c = float(input('Enter third side: '))\n",
        "# calculate the semi-perimeter.\n",
        "s = (a + b + c) / 2.\n",
        "# calculate the area.\n",
        "area = (s*(s-a)*(s-b)*(s-c)) ** 0.5\n",
        "area"
      ],
      "metadata": {
        "colab": {
          "base_uri": "https://localhost:8080/"
        },
        "id": "uS-2gGJBmzX8",
        "outputId": "e37013d5-0502-49d9-8cf3-4346613a31ce"
      },
      "execution_count": 16,
      "outputs": [
        {
          "name": "stdout",
          "output_type": "stream",
          "text": [
            "Enter first side: 5\n",
            "Enter second side: 7\n",
            "Enter third side: 10\n"
          ]
        },
        {
          "output_type": "execute_result",
          "data": {
            "text/plain": [
              "16.24807680927192"
            ]
          },
          "metadata": {},
          "execution_count": 16
        }
      ]
    },
    {
      "cell_type": "code",
      "source": [
        "#Question 39\n",
        "X=2\n",
        "n=5\n",
        "mult=1\n",
        "for i in range(2,n):\n",
        "    mult=X**i\n",
        "print(mult)\n"
      ],
      "metadata": {
        "colab": {
          "base_uri": "https://localhost:8080/"
        },
        "id": "LKxOwxmUliQm",
        "outputId": "dae1ee0a-aa34-4b4d-fd52-e394be1cee81"
      },
      "execution_count": 9,
      "outputs": [
        {
          "output_type": "stream",
          "name": "stdout",
          "text": [
            "16\n"
          ]
        }
      ]
    },
    {
      "cell_type": "code",
      "source": [
        "#Question 40\n",
        "r=(float)(input(\"Enter Radius: \"))\n",
        "a=3.14*r*r\n",
        "c=2*3.14*r\n",
        "print(\"Area of Circle is: \",a)\n",
        "print(\"Circumference of Circle is: \",c)"
      ],
      "metadata": {
        "colab": {
          "base_uri": "https://localhost:8080/"
        },
        "id": "HzS8O6vsl3Zj",
        "outputId": "c1804171-e8ea-476a-d495-57cab728ea66"
      },
      "execution_count": 10,
      "outputs": [
        {
          "output_type": "stream",
          "name": "stdout",
          "text": [
            "Enter Radius: 0.5\n",
            "Area of Circle is:  0.785\n",
            "Circumference of Circle is:  3.14\n"
          ]
        }
      ]
    },
    {
      "cell_type": "code",
      "source": [
        ""
      ],
      "metadata": {
        "id": "lpPhTLf7l7FF"
      },
      "execution_count": null,
      "outputs": []
    }
  ]
}